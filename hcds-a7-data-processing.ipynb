{
 "cells": [
  {
   "cell_type": "markdown",
   "id": "9b2c6fd6",
   "metadata": {},
   "source": [
    "# A7 - Data Processing"
   ]
  },
  {
   "cell_type": "markdown",
   "id": "153fbbf9",
   "metadata": {},
   "source": [
    "This notebook handles basic clean up and pre-processing of all the raw input data. The output will later be used for visualizations and regression analysis."
   ]
  },
  {
   "cell_type": "code",
   "execution_count": 1,
   "id": "5ad576e2",
   "metadata": {},
   "outputs": [],
   "source": [
    "import pandas as pd\n",
    "import numpy as np"
   ]
  },
  {
   "cell_type": "markdown",
   "id": "3d02e8cc",
   "metadata": {},
   "source": [
    "Renaming columns to more intuitive names, dropping unnecessary columns, and performing some type conversions."
   ]
  },
  {
   "cell_type": "code",
   "execution_count": 2,
   "id": "a649859d",
   "metadata": {},
   "outputs": [],
   "source": [
    "def load_table(file_name, metric_name):\n",
    "    table = pd.read_csv(file_name)\n",
    "    table = table.rename(columns = {'Province_State': 'State', 'Admin2': 'County', 'Lat': 'Latitude', 'Long_': 'Longitude'})\n",
    "    table = table.loc[(table['iso3'] == 'USA') & (table['State'] != \"Grand Princess\") & (table['State'] != \"Diamond Princess\") & (table['Latitude'] != 0.0) & (table['Longitude'] != 0.0)]\n",
    "    table = table.drop(['UID', 'iso2', 'iso3', 'Combined_Key', 'code3', 'Country_Region'], axis=1)\n",
    "    keys = ['State', 'County', 'FIPS', 'Latitude', 'Longitude']\n",
    "    if 'Population' in table.columns:\n",
    "        keys.append('Population')\n",
    "    table = table.melt(id_vars=keys, var_name='Date', value_name=metric_name).reset_index()\n",
    "    table['Date'] = pd.to_datetime(table['Date'], infer_datetime_format=True)\n",
    "    table['FIPS'] = table['FIPS'].astype(\"Int64\")\n",
    "    table = table.drop(['index'], axis=1)\n",
    "    \n",
    "    return table"
   ]
  },
  {
   "cell_type": "markdown",
   "id": "f9c0b56b",
   "metadata": {},
   "source": [
    "Loading the record of confirmed cases and deaths per county [1]. "
   ]
  },
  {
   "cell_type": "code",
   "execution_count": 3,
   "id": "654acfe1",
   "metadata": {},
   "outputs": [],
   "source": [
    "cases = load_table(file_name='cases/RAW_us_confirmed_cases.csv', metric_name='Cases')"
   ]
  },
  {
   "cell_type": "code",
   "execution_count": 4,
   "id": "8aa9832a",
   "metadata": {},
   "outputs": [],
   "source": [
    "deaths = load_table(file_name='cases/RAW_us_deaths.csv', metric_name='Deaths')"
   ]
  },
  {
   "cell_type": "code",
   "execution_count": 5,
   "id": "86c4d2d1",
   "metadata": {},
   "outputs": [],
   "source": [
    "cases_and_deaths = cases.merge(deaths, on=['State', 'County', 'FIPS', 'Latitude', 'Longitude', 'Date'])"
   ]
  },
  {
   "cell_type": "markdown",
   "id": "e3650cd0",
   "metadata": {},
   "source": [
    "While the source dataset continues to evolve, at the time of this project, the available data included records from January 2020 to November 2021."
   ]
  },
  {
   "cell_type": "code",
   "execution_count": 6,
   "id": "25dc8206",
   "metadata": {
    "scrolled": true
   },
   "outputs": [
    {
     "data": {
      "text/plain": [
       "(Timestamp('2020-01-22 00:00:00'), Timestamp('2021-11-01 00:00:00'))"
      ]
     },
     "execution_count": 6,
     "metadata": {},
     "output_type": "execute_result"
    }
   ],
   "source": [
    "cases_and_deaths.Date.min(), cases_and_deaths.Date.max()"
   ]
  },
  {
   "cell_type": "markdown",
   "id": "9cbe5885",
   "metadata": {},
   "source": [
    "## Rates by State"
   ]
  },
  {
   "cell_type": "markdown",
   "id": "f869c12f",
   "metadata": {},
   "source": [
    "Calculating the aggregated counts of deaths and population by state."
   ]
  },
  {
   "cell_type": "code",
   "execution_count": 7,
   "id": "30c8238a",
   "metadata": {},
   "outputs": [],
   "source": [
    "rates_by_state = cases_and_deaths[['State', 'Cases', 'Deaths', 'Population']].groupby(by='State').sum()"
   ]
  },
  {
   "cell_type": "markdown",
   "id": "f60abb2e",
   "metadata": {},
   "source": [
    "Calculating the death rate per 1,000 population, and the infection mortality rate per 1,000 cases."
   ]
  },
  {
   "cell_type": "code",
   "execution_count": 8,
   "id": "602fb93a",
   "metadata": {},
   "outputs": [],
   "source": [
    "rates_by_state['Deaths by 1,000 Population'] = 1000 * rates_by_state['Deaths'] / rates_by_state['Population']\n",
    "rates_by_state['Deaths by 1,000 Cases'] = 1000 * rates_by_state['Deaths'] / rates_by_state['Cases']"
   ]
  },
  {
   "cell_type": "code",
   "execution_count": 9,
   "id": "c585bccb",
   "metadata": {
    "scrolled": true
   },
   "outputs": [
    {
     "data": {
      "text/html": [
       "<div>\n",
       "<style scoped>\n",
       "    .dataframe tbody tr th:only-of-type {\n",
       "        vertical-align: middle;\n",
       "    }\n",
       "\n",
       "    .dataframe tbody tr th {\n",
       "        vertical-align: top;\n",
       "    }\n",
       "\n",
       "    .dataframe thead th {\n",
       "        text-align: right;\n",
       "    }\n",
       "</style>\n",
       "<table border=\"1\" class=\"dataframe\">\n",
       "  <thead>\n",
       "    <tr style=\"text-align: right;\">\n",
       "      <th></th>\n",
       "      <th>Cases</th>\n",
       "      <th>Deaths</th>\n",
       "      <th>Population</th>\n",
       "      <th>Deaths by 1,000 Population</th>\n",
       "      <th>Deaths by 1,000 Cases</th>\n",
       "    </tr>\n",
       "    <tr>\n",
       "      <th>State</th>\n",
       "      <th></th>\n",
       "      <th></th>\n",
       "      <th></th>\n",
       "      <th></th>\n",
       "      <th></th>\n",
       "    </tr>\n",
       "  </thead>\n",
       "  <tbody>\n",
       "    <tr>\n",
       "      <th>Alabama</th>\n",
       "      <td>209071434</td>\n",
       "      <td>3882780</td>\n",
       "      <td>3187070250</td>\n",
       "      <td>1.218291</td>\n",
       "      <td>18.571547</td>\n",
       "    </tr>\n",
       "    <tr>\n",
       "      <th>Alaska</th>\n",
       "      <td>25934080</td>\n",
       "      <td>130626</td>\n",
       "      <td>481646750</td>\n",
       "      <td>0.271207</td>\n",
       "      <td>5.036847</td>\n",
       "    </tr>\n",
       "    <tr>\n",
       "      <th>Arizona</th>\n",
       "      <td>320899015</td>\n",
       "      <td>6283173</td>\n",
       "      <td>4731166050</td>\n",
       "      <td>1.328039</td>\n",
       "      <td>19.579907</td>\n",
       "    </tr>\n",
       "    <tr>\n",
       "      <th>Arkansas</th>\n",
       "      <td>129823216</td>\n",
       "      <td>2128392</td>\n",
       "      <td>1961572600</td>\n",
       "      <td>1.085044</td>\n",
       "      <td>16.394541</td>\n",
       "    </tr>\n",
       "    <tr>\n",
       "      <th>California</th>\n",
       "      <td>1379627257</td>\n",
       "      <td>20898866</td>\n",
       "      <td>25682944950</td>\n",
       "      <td>0.813725</td>\n",
       "      <td>15.148197</td>\n",
       "    </tr>\n",
       "    <tr>\n",
       "      <th>Colorado</th>\n",
       "      <td>185631795</td>\n",
       "      <td>2544127</td>\n",
       "      <td>3743178400</td>\n",
       "      <td>0.679670</td>\n",
       "      <td>13.705233</td>\n",
       "    </tr>\n",
       "    <tr>\n",
       "      <th>Connecticut</th>\n",
       "      <td>117614131</td>\n",
       "      <td>3559254</td>\n",
       "      <td>2317436550</td>\n",
       "      <td>1.535858</td>\n",
       "      <td>30.262129</td>\n",
       "    </tr>\n",
       "    <tr>\n",
       "      <th>Delaware</th>\n",
       "      <td>37168579</td>\n",
       "      <td>663011</td>\n",
       "      <td>632946600</td>\n",
       "      <td>1.047499</td>\n",
       "      <td>17.837943</td>\n",
       "    </tr>\n",
       "    <tr>\n",
       "      <th>District of Columbia</th>\n",
       "      <td>18392671</td>\n",
       "      <td>477832</td>\n",
       "      <td>458736850</td>\n",
       "      <td>1.041625</td>\n",
       "      <td>25.979478</td>\n",
       "    </tr>\n",
       "    <tr>\n",
       "      <th>Florida</th>\n",
       "      <td>890693725</td>\n",
       "      <td>13029091</td>\n",
       "      <td>13960529050</td>\n",
       "      <td>0.933281</td>\n",
       "      <td>14.628026</td>\n",
       "    </tr>\n",
       "  </tbody>\n",
       "</table>\n",
       "</div>"
      ],
      "text/plain": [
       "                           Cases    Deaths   Population  \\\n",
       "State                                                     \n",
       "Alabama                209071434   3882780   3187070250   \n",
       "Alaska                  25934080    130626    481646750   \n",
       "Arizona                320899015   6283173   4731166050   \n",
       "Arkansas               129823216   2128392   1961572600   \n",
       "California            1379627257  20898866  25682944950   \n",
       "Colorado               185631795   2544127   3743178400   \n",
       "Connecticut            117614131   3559254   2317436550   \n",
       "Delaware                37168579    663011    632946600   \n",
       "District of Columbia    18392671    477832    458736850   \n",
       "Florida                890693725  13029091  13960529050   \n",
       "\n",
       "                      Deaths by 1,000 Population  Deaths by 1,000 Cases  \n",
       "State                                                                    \n",
       "Alabama                                 1.218291              18.571547  \n",
       "Alaska                                  0.271207               5.036847  \n",
       "Arizona                                 1.328039              19.579907  \n",
       "Arkansas                                1.085044              16.394541  \n",
       "California                              0.813725              15.148197  \n",
       "Colorado                                0.679670              13.705233  \n",
       "Connecticut                             1.535858              30.262129  \n",
       "Delaware                                1.047499              17.837943  \n",
       "District of Columbia                    1.041625              25.979478  \n",
       "Florida                                 0.933281              14.628026  "
      ]
     },
     "execution_count": 9,
     "metadata": {},
     "output_type": "execute_result"
    }
   ],
   "source": [
    "rates_by_state.head(10)"
   ]
  },
  {
   "cell_type": "markdown",
   "id": "eb07147b",
   "metadata": {},
   "source": [
    "Saving the output for further analysis and visualizations."
   ]
  },
  {
   "cell_type": "code",
   "execution_count": 10,
   "id": "8fecd692",
   "metadata": {},
   "outputs": [],
   "source": [
    "rates_by_state.reset_index().to_csv('mortality_rates_by_state.csv')"
   ]
  },
  {
   "cell_type": "markdown",
   "id": "5024e5d5",
   "metadata": {},
   "source": [
    "## Rates by County"
   ]
  },
  {
   "cell_type": "markdown",
   "id": "96fbb764",
   "metadata": {},
   "source": [
    "Aggregating the daily records as a snapshot per county."
   ]
  },
  {
   "cell_type": "code",
   "execution_count": 11,
   "id": "34fdbafa",
   "metadata": {},
   "outputs": [],
   "source": [
    "rates_by_county = cases_and_deaths[['State', 'County', 'Cases', 'Deaths', 'Population']].groupby(by=['State', 'County']).sum()"
   ]
  },
  {
   "cell_type": "code",
   "execution_count": 12,
   "id": "2809c1d6",
   "metadata": {},
   "outputs": [],
   "source": [
    "rates_by_county['Deaths by 1,000 Population'] = 1000 * rates_by_county['Deaths'] / rates_by_county['Population']\n",
    "rates_by_county['Deaths by 1,000 Case'] = 1000 * rates_by_county['Deaths'] / rates_by_county['Cases']"
   ]
  },
  {
   "cell_type": "code",
   "execution_count": 13,
   "id": "fe1fb5c6",
   "metadata": {
    "scrolled": true
   },
   "outputs": [
    {
     "data": {
      "text/html": [
       "<div>\n",
       "<style scoped>\n",
       "    .dataframe tbody tr th:only-of-type {\n",
       "        vertical-align: middle;\n",
       "    }\n",
       "\n",
       "    .dataframe tbody tr th {\n",
       "        vertical-align: top;\n",
       "    }\n",
       "\n",
       "    .dataframe thead th {\n",
       "        text-align: right;\n",
       "    }\n",
       "</style>\n",
       "<table border=\"1\" class=\"dataframe\">\n",
       "  <thead>\n",
       "    <tr style=\"text-align: right;\">\n",
       "      <th></th>\n",
       "      <th></th>\n",
       "      <th>Cases</th>\n",
       "      <th>Deaths</th>\n",
       "      <th>Population</th>\n",
       "      <th>Deaths by 1,000 Population</th>\n",
       "      <th>Deaths by 1,000 Case</th>\n",
       "    </tr>\n",
       "    <tr>\n",
       "      <th>State</th>\n",
       "      <th>County</th>\n",
       "      <th></th>\n",
       "      <th></th>\n",
       "      <th></th>\n",
       "      <th></th>\n",
       "      <th></th>\n",
       "    </tr>\n",
       "  </thead>\n",
       "  <tbody>\n",
       "    <tr>\n",
       "      <th rowspan=\"10\" valign=\"top\">Alabama</th>\n",
       "      <th>Autauga</th>\n",
       "      <td>2610739</td>\n",
       "      <td>37993</td>\n",
       "      <td>36314850</td>\n",
       "      <td>1.046211</td>\n",
       "      <td>14.552585</td>\n",
       "    </tr>\n",
       "    <tr>\n",
       "      <th>Baldwin</th>\n",
       "      <td>8588525</td>\n",
       "      <td>113444</td>\n",
       "      <td>145102100</td>\n",
       "      <td>0.781822</td>\n",
       "      <td>13.208787</td>\n",
       "    </tr>\n",
       "    <tr>\n",
       "      <th>Barbour</th>\n",
       "      <td>937910</td>\n",
       "      <td>19576</td>\n",
       "      <td>16045900</td>\n",
       "      <td>1.220000</td>\n",
       "      <td>20.871939</td>\n",
       "    </tr>\n",
       "    <tr>\n",
       "      <th>Bibb</th>\n",
       "      <td>1031720</td>\n",
       "      <td>22351</td>\n",
       "      <td>14556100</td>\n",
       "      <td>1.535507</td>\n",
       "      <td>21.663824</td>\n",
       "    </tr>\n",
       "    <tr>\n",
       "      <th>Blount</th>\n",
       "      <td>2559096</td>\n",
       "      <td>44830</td>\n",
       "      <td>37586900</td>\n",
       "      <td>1.192703</td>\n",
       "      <td>17.517905</td>\n",
       "    </tr>\n",
       "    <tr>\n",
       "      <th>Bullock</th>\n",
       "      <td>502704</td>\n",
       "      <td>14972</td>\n",
       "      <td>6565650</td>\n",
       "      <td>2.280353</td>\n",
       "      <td>29.782934</td>\n",
       "    </tr>\n",
       "    <tr>\n",
       "      <th>Butler</th>\n",
       "      <td>916640</td>\n",
       "      <td>29780</td>\n",
       "      <td>12641200</td>\n",
       "      <td>2.355789</td>\n",
       "      <td>32.488218</td>\n",
       "    </tr>\n",
       "    <tr>\n",
       "      <th>Calhoun</th>\n",
       "      <td>5467623</td>\n",
       "      <td>109423</td>\n",
       "      <td>73843250</td>\n",
       "      <td>1.481828</td>\n",
       "      <td>20.012901</td>\n",
       "    </tr>\n",
       "    <tr>\n",
       "      <th>Chambers</th>\n",
       "      <td>1468175</td>\n",
       "      <td>45343</td>\n",
       "      <td>21615100</td>\n",
       "      <td>2.097746</td>\n",
       "      <td>30.883921</td>\n",
       "    </tr>\n",
       "    <tr>\n",
       "      <th>Cherokee</th>\n",
       "      <td>747609</td>\n",
       "      <td>16367</td>\n",
       "      <td>17027400</td>\n",
       "      <td>0.961215</td>\n",
       "      <td>21.892460</td>\n",
       "    </tr>\n",
       "  </tbody>\n",
       "</table>\n",
       "</div>"
      ],
      "text/plain": [
       "                    Cases  Deaths  Population  Deaths by 1,000 Population  \\\n",
       "State   County                                                              \n",
       "Alabama Autauga   2610739   37993    36314850                    1.046211   \n",
       "        Baldwin   8588525  113444   145102100                    0.781822   \n",
       "        Barbour    937910   19576    16045900                    1.220000   \n",
       "        Bibb      1031720   22351    14556100                    1.535507   \n",
       "        Blount    2559096   44830    37586900                    1.192703   \n",
       "        Bullock    502704   14972     6565650                    2.280353   \n",
       "        Butler     916640   29780    12641200                    2.355789   \n",
       "        Calhoun   5467623  109423    73843250                    1.481828   \n",
       "        Chambers  1468175   45343    21615100                    2.097746   \n",
       "        Cherokee   747609   16367    17027400                    0.961215   \n",
       "\n",
       "                  Deaths by 1,000 Case  \n",
       "State   County                          \n",
       "Alabama Autauga              14.552585  \n",
       "        Baldwin              13.208787  \n",
       "        Barbour              20.871939  \n",
       "        Bibb                 21.663824  \n",
       "        Blount               17.517905  \n",
       "        Bullock              29.782934  \n",
       "        Butler               32.488218  \n",
       "        Calhoun              20.012901  \n",
       "        Chambers             30.883921  \n",
       "        Cherokee             21.892460  "
      ]
     },
     "execution_count": 13,
     "metadata": {},
     "output_type": "execute_result"
    }
   ],
   "source": [
    "rates_by_county.head(10)"
   ]
  },
  {
   "cell_type": "markdown",
   "id": "2ad0a3e2",
   "metadata": {},
   "source": [
    "Saving the rates by county for further analysis and visualizations."
   ]
  },
  {
   "cell_type": "code",
   "execution_count": 14,
   "id": "2e8a28ea",
   "metadata": {},
   "outputs": [],
   "source": [
    "rates_by_county.to_csv('mortality_rates_by_county.csv')"
   ]
  },
  {
   "cell_type": "markdown",
   "id": "378e615a",
   "metadata": {},
   "source": [
    "## Health Infrastructure Metrics"
   ]
  },
  {
   "cell_type": "code",
   "execution_count": 15,
   "id": "16165d74",
   "metadata": {},
   "outputs": [],
   "source": [
    "def load_health_infrastructure_data(file_name):\n",
    "    return pd.read_csv(f\"health_infrastructure/{file_name}\").rename({'Location': 'State'}, axis=1)"
   ]
  },
  {
   "cell_type": "markdown",
   "id": "482fbb21",
   "metadata": {},
   "source": [
    "### Hospitals\n",
    "\n",
    "The total number of hospitals [2] per state."
   ]
  },
  {
   "cell_type": "code",
   "execution_count": 16,
   "id": "f50716aa",
   "metadata": {},
   "outputs": [],
   "source": [
    "total_hospitals = load_health_infrastructure_data(\"total_hospitals.csv\")"
   ]
  },
  {
   "cell_type": "code",
   "execution_count": 17,
   "id": "d6c6be7d",
   "metadata": {},
   "outputs": [],
   "source": [
    "all_metrics = rates_by_state.merge(total_hospitals, left_on='State', right_on='State', how='left')\n",
    "all_metrics['Hospitals per 1,000 Population'] = 1000 * all_metrics['Total Hospitals'] / all_metrics['Population']"
   ]
  },
  {
   "cell_type": "markdown",
   "id": "b3611541",
   "metadata": {},
   "source": [
    "### Community Health Centers\n",
    "\n",
    "The number of community health centers [3] per state."
   ]
  },
  {
   "cell_type": "code",
   "execution_count": 18,
   "id": "0ac30cc7",
   "metadata": {},
   "outputs": [],
   "source": [
    "health_centers = load_health_infrastructure_data(\"community_health_centers.csv\")"
   ]
  },
  {
   "cell_type": "code",
   "execution_count": 19,
   "id": "6acf4edf",
   "metadata": {},
   "outputs": [],
   "source": [
    "all_metrics = all_metrics.merge(health_centers, left_on='State', right_on='State', how='left')\n",
    "all_metrics['Community Health Centers per 1,000 Population'] = 1000 * all_metrics['Total CHCs'] / all_metrics['Population']"
   ]
  },
  {
   "cell_type": "markdown",
   "id": "b51f193b",
   "metadata": {},
   "source": [
    "### Hospital Beds\n",
    "\n",
    "Number of hospital beds [4] per state. Notice this dataset doesn't contain totals, but a rate of number of beds per 1,000 population."
   ]
  },
  {
   "cell_type": "code",
   "execution_count": 20,
   "id": "5749efce",
   "metadata": {},
   "outputs": [],
   "source": [
    "hospital_beds = load_health_infrastructure_data(\"hospital_beds_per_1000_people.csv\")"
   ]
  },
  {
   "cell_type": "code",
   "execution_count": 21,
   "id": "8987ce92",
   "metadata": {},
   "outputs": [],
   "source": [
    "all_metrics = all_metrics.merge(hospital_beds, left_on='State', right_on='State', how='left')\n",
    "all_metrics['Total beds per 1,000 Population'] = all_metrics['Total']"
   ]
  },
  {
   "cell_type": "markdown",
   "id": "e09c0f9e",
   "metadata": {},
   "source": [
    "### ICU Beds\n",
    "\n",
    "Number of ICU beds [5] per state."
   ]
  },
  {
   "cell_type": "code",
   "execution_count": 22,
   "id": "b1afa9d2",
   "metadata": {},
   "outputs": [],
   "source": [
    "icu_beds = load_health_infrastructure_data(\"icu_beds.csv\")"
   ]
  },
  {
   "cell_type": "code",
   "execution_count": 23,
   "id": "a1970bfd",
   "metadata": {},
   "outputs": [],
   "source": [
    "all_metrics = all_metrics.merge(icu_beds, left_on='State', right_on='State', how='left')\n",
    "all_metrics['ICU beds per 1,000 Population'] = 1000 * all_metrics['ICU Beds'] / all_metrics['Population']"
   ]
  },
  {
   "cell_type": "markdown",
   "id": "39d9f470",
   "metadata": {},
   "source": [
    "### Primary Care\n",
    "\n",
    "Number of professionally active primary care physicians [6] per state."
   ]
  },
  {
   "cell_type": "code",
   "execution_count": 24,
   "id": "c2d0db29",
   "metadata": {},
   "outputs": [],
   "source": [
    "primary_care = load_health_infrastructure_data(\"primary_care.csv\")"
   ]
  },
  {
   "cell_type": "code",
   "execution_count": 25,
   "id": "26ff08b2",
   "metadata": {},
   "outputs": [],
   "source": [
    "all_metrics = all_metrics.merge(primary_care, left_on='State', right_on='State', how='left')\n",
    "all_metrics['Total Primary Care Practitioners per 1,000 Population'] = 1000 * all_metrics['Total Primary Care'] / all_metrics['Population']"
   ]
  },
  {
   "cell_type": "markdown",
   "id": "069ae4e1",
   "metadata": {},
   "source": [
    "### Primary Care Shortage\n",
    "\n",
    "An index indicating the degree of shortage in primary care providers [7] per state.\n",
    "\n",
    "Per documentation: \"Percent of Need Met\" is computed by dividing the number of physicians available to serve the population of the area, group, or facility by the number of physicians that would be necessary to eliminate the primary are HPSA (based on a ratio of 3,500 to 1 (3,000 to 1 where high needs are indicated))."
   ]
  },
  {
   "cell_type": "code",
   "execution_count": 26,
   "id": "58d033a1",
   "metadata": {},
   "outputs": [],
   "source": [
    "primary_care_shortage = load_health_infrastructure_data(\"primary_care_shortage.csv\")"
   ]
  },
  {
   "cell_type": "code",
   "execution_count": 27,
   "id": "a679cb0e",
   "metadata": {},
   "outputs": [],
   "source": [
    "all_metrics = all_metrics.merge(primary_care_shortage, left_on='State', right_on='State', how='left')\n",
    "all_metrics['Percentage of Practitioners Needed Met'] = all_metrics['Percent of Need Met']"
   ]
  },
  {
   "cell_type": "markdown",
   "id": "825ff97a",
   "metadata": {},
   "source": [
    "## Output"
   ]
  },
  {
   "cell_type": "code",
   "execution_count": 28,
   "id": "e0ed9824",
   "metadata": {},
   "outputs": [],
   "source": [
    "all_metrics.to_csv(\"all_metrics.csv\")"
   ]
  },
  {
   "cell_type": "markdown",
   "id": "9d1375d8",
   "metadata": {},
   "source": [
    "## Data Sources\n",
    "\n",
    "[1] Record of COVID-19 confirmed cases and deaths by state, dataset from Johns Hopkins University and distributed through Kaggle under CC BY 4.0 license. Available at https://www.kaggle.com/antgoldbloom/covid19-data-from-john-hopkins-university\n",
    "\n",
    "[2] “Total Hospitals”, 2019, AHA Annual Survey, Copyright 2020 by Health Forum, LLC, an affiliate of the American Hospital Association. Special data request, 2020. Available from KFF State Health Facts, https://www.kff.org/other/state-indicator/total-hospitals/\n",
    "\n",
    "[3] “Community Health Center Delivery Sites and Patient Visits”, 2019, George Washington University analysis of the 2020 Uniform Data System, Health Resources and Services Administration. Special Data Request, September 2021. Available from KFF State Health Facts, https://www.kff.org/other/state-indicator/community-health-center-sites-and-visits/\n",
    "\n",
    "[4] “Hospital Beds per 1,000 Population by Ownership Type”, 2019, AHA Annual Survey, Copyright 2020 by Health Forum, LLC, an affiliate of the American Hospital Association. Special data request, 2020. Available from KFF State Health Facts, https://www.kff.org/other/state-indicator/beds-by-ownership\n",
    "\n",
    "[5] “ICU Beds”, 2018, KFF analysis of merged American Hospital Directory and 2018 AHA Annual Survey data. Available from KFF State Health Facts, https://www.kff.org/other/state-indicator/icu-beds/\n",
    "\n",
    "[6] “Professionally Active Primary Care Physicians by Field”, 2021, Special data request on State Licensing Information from Redi-Data, Inc., June 202. Available from KFF State Health Facts, https://www.kff.org/other/state-indicator/primary-care-physicians-by-field/\n",
    "\n",
    "[7] “Primary Care Health Professional Shortage Areas (HPSAs)”, 2021, Bureau of Health Workforce, Health Resources and Services Administration (HRSA), U.S. Department of Health & Human Services, Designated Health Professional Shortage Areas Statistics: Designated HPSA Quarterly Summary, as of September 30, 2021 available at https://data.hrsa.gov/topics/health-workforce/shortage-areas and obtained from KFF State Health Facts, https://www.kff.org/other/state-indicator/primary-care-health-professional-shortage-areas-hpsas/"
   ]
  }
 ],
 "metadata": {
  "kernelspec": {
   "display_name": "Python [conda env:DATA512] *",
   "language": "python",
   "name": "conda-env-DATA512-py"
  },
  "language_info": {
   "codemirror_mode": {
    "name": "ipython",
    "version": 3
   },
   "file_extension": ".py",
   "mimetype": "text/x-python",
   "name": "python",
   "nbconvert_exporter": "python",
   "pygments_lexer": "ipython3",
   "version": "3.7.11"
  }
 },
 "nbformat": 4,
 "nbformat_minor": 5
}
